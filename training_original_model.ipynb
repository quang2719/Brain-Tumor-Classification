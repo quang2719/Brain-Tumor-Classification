{
 "cells": [
  {
   "cell_type": "markdown",
   "metadata": {},
   "source": [
    "# Import library"
   ]
  },
  {
   "cell_type": "code",
   "execution_count": 185,
   "metadata": {},
   "outputs": [],
   "source": [
    "import cv2\n",
    "import os\n",
    "import random\n",
    "import numpy as np\n",
    "import tensorflow as tf\n",
    "from sklearn.preprocessing import StandardScaler\n",
    "from tensorflow import keras\n",
    "from sklearn.svm import SVC\n",
    "from sklearn.metrics import classification_report, accuracy_score\n",
    "from keras.utils import normalize\n",
    "from PIL import Image\n",
    "from sklearn.model_selection import train_test_split"
   ]
  },
  {
   "cell_type": "markdown",
   "metadata": {},
   "source": [
    "### Avoid difference result after rerun notebook"
   ]
  },
  {
   "cell_type": "code",
   "execution_count": 186,
   "metadata": {},
   "outputs": [],
   "source": [
    "seed = 99\n",
    "tf.random.set_seed(seed)\n",
    "np.random.seed(seed)\n",
    "random.seed(seed)"
   ]
  },
  {
   "cell_type": "markdown",
   "metadata": {},
   "source": [
    "# Reading dataset"
   ]
  },
  {
   "cell_type": "code",
   "execution_count": 187,
   "metadata": {},
   "outputs": [],
   "source": [
    "no_dir = os.listdir('./data_no/data_no/NO/')\n",
    "yes_dir = os.listdir('./data_yes/data_yes/YES/')"
   ]
  },
  {
   "cell_type": "code",
   "execution_count": 188,
   "metadata": {},
   "outputs": [
    {
     "data": {
      "text/plain": [
       "535"
      ]
     },
     "execution_count": 188,
     "metadata": {},
     "output_type": "execute_result"
    }
   ],
   "source": [
    "len(no_dir)"
   ]
  },
  {
   "cell_type": "code",
   "execution_count": 189,
   "metadata": {},
   "outputs": [
    {
     "data": {
      "text/plain": [
       "557"
      ]
     },
     "execution_count": 189,
     "metadata": {},
     "output_type": "execute_result"
    }
   ],
   "source": [
    "len(yes_dir)"
   ]
  },
  {
   "cell_type": "code",
   "execution_count": 190,
   "metadata": {},
   "outputs": [],
   "source": [
    "data_set,label = [],[]\n",
    "for i,cur_img_dir in enumerate(no_dir):\n",
    "    #check type of image\n",
    "    if cur_img_dir.split('.')[1]=='jpg':\n",
    "        img = cv2.imread('./data_no/data_no/NO/'+cur_img_dir)\n",
    "        img = Image.fromarray(img,'RGB')\n",
    "        img = img.resize((64,64))\n",
    "        data_set.append(np.array(img))\n",
    "        label.append(0)"
   ]
  },
  {
   "cell_type": "code",
   "execution_count": 191,
   "metadata": {},
   "outputs": [],
   "source": [
    "for i,cur_img_dir in enumerate(yes_dir):\n",
    "    #check type of image\n",
    "    if cur_img_dir.split('.')[1]=='jpg':\n",
    "        img = cv2.imread('./data_yes/data_yes/YES/'+cur_img_dir)\n",
    "        img = Image.fromarray(img,'RGB')\n",
    "        img = img.resize((64,64))\n",
    "        data_set.append(np.array(img))\n",
    "        label.append(1)"
   ]
  },
  {
   "cell_type": "code",
   "execution_count": 192,
   "metadata": {},
   "outputs": [
    {
     "data": {
      "text/plain": [
       "(1092, 64, 64, 3)"
      ]
     },
     "execution_count": 192,
     "metadata": {},
     "output_type": "execute_result"
    }
   ],
   "source": [
    "data_set = np.array(data_set)\n",
    "label = np.array(label)\n",
    "data_set.shape"
   ]
  },
  {
   "cell_type": "code",
   "execution_count": 193,
   "metadata": {},
   "outputs": [
    {
     "data": {
      "text/plain": [
       "(1092,)"
      ]
     },
     "execution_count": 193,
     "metadata": {},
     "output_type": "execute_result"
    }
   ],
   "source": [
    "label.shape"
   ]
  },
  {
   "cell_type": "code",
   "execution_count": 194,
   "metadata": {},
   "outputs": [
    {
     "name": "stdout",
     "output_type": "stream",
     "text": [
      "yes observe:557, no observe:535\n"
     ]
    }
   ],
   "source": [
    "print(f'yes observe:{sum(label)}, no observe:{len(label)-sum(label)}')"
   ]
  },
  {
   "cell_type": "markdown",
   "metadata": {},
   "source": [
    "# Split and normalize data\n"
   ]
  },
  {
   "cell_type": "markdown",
   "metadata": {},
   "source": [
    "## 1. Split\n"
   ]
  },
  {
   "cell_type": "code",
   "execution_count": 195,
   "metadata": {},
   "outputs": [],
   "source": [
    "x_train,x_test,y_train,y_test = train_test_split(\n",
    "    data_set,label,\n",
    "    test_size=0.2,\n",
    "    random_state=99\n",
    "    )\n",
    "x_train,x_val,y_train,y_val = train_test_split(\n",
    "        x_train,y_train,\n",
    "    test_size=0.25,\n",
    "    random_state=99\n",
    ")\n"
   ]
  },
  {
   "cell_type": "code",
   "execution_count": 196,
   "metadata": {},
   "outputs": [
    {
     "name": "stdout",
     "output_type": "stream",
     "text": [
      "X train shape: (654, 64, 64, 3)\n",
      "Y train shape: (654,)\n",
      "X test shape: (219, 64, 64, 3)\n",
      "Y test shape: (219,)\n",
      "X validation shape: (219, 64, 64, 3)\n",
      "Y validation shape: (219, 64, 64, 3)\n"
     ]
    }
   ],
   "source": [
    "print(f'X train shape: {x_train.shape}\\nY train shape: {y_train.shape}\\nX test shape: {x_test.shape}\\nY test shape: {y_test.shape}\\nX validation shape: {x_val.shape}\\nY validation shape: {x_val.shape}')"
   ]
  },
  {
   "cell_type": "markdown",
   "metadata": {},
   "source": [
    "## 2. Normalize"
   ]
  },
  {
   "cell_type": "code",
   "execution_count": 197,
   "metadata": {},
   "outputs": [],
   "source": [
    "x_train = normalize(x_train, axis=1)\n",
    "x_test = normalize(x_test, axis=1)\n",
    "x_val = normalize(x_val, axis=1)"
   ]
  },
  {
   "cell_type": "markdown",
   "metadata": {},
   "source": [
    "# Building Model"
   ]
  },
  {
   "cell_type": "code",
   "execution_count": 198,
   "metadata": {},
   "outputs": [],
   "source": [
    "from keras.models import Sequential \n",
    "from tensorflow.keras.optimizers import Adam\n",
    "from keras.layers import (\n",
    "    Conv2D,\n",
    "    MaxPooling2D,\n",
    "    Activation,\n",
    "    Dropout,\n",
    "    Flatten,\n",
    "    Dense\n",
    ")"
   ]
  },
  {
   "cell_type": "code",
   "execution_count": 199,
   "metadata": {},
   "outputs": [],
   "source": [
    "model=Sequential()\n",
    "INPUT_SIZE = 64\n",
    "\n",
    "model.add(Conv2D(32,(3,3), input_shape=(INPUT_SIZE,INPUT_SIZE,3)))\n",
    "model.add(Activation('relu'))\n",
    "model.add(MaxPooling2D(pool_size=(2,2)))\n",
    "\n",
    "model.add(Conv2D(32, (3,3), kernel_initializer='he_uniform'))\n",
    "model.add(Activation('relu'))\n",
    "model.add(MaxPooling2D(pool_size=(2,2)))\n",
    "\n",
    "\n",
    "model.add(Conv2D(64,(3,3), kernel_initializer='he_uniform'))\n",
    "model.add(Activation('relu'))\n",
    "model.add(MaxPooling2D(pool_size=(2,2)))\n",
    "\n",
    "model.add(Flatten())\n",
    "model.add(Dense(64))\n",
    "model.add(Activation('relu'))\n",
    "model.add(Dropout(0.8))\n",
    "model.add(Dense(1))\n",
    "model.add(Activation('sigmoid'))"
   ]
  },
  {
   "cell_type": "markdown",
   "metadata": {},
   "source": [
    "# Training model"
   ]
  },
  {
   "cell_type": "markdown",
   "metadata": {},
   "source": [
    "### F1 score function"
   ]
  },
  {
   "cell_type": "code",
   "execution_count": 200,
   "metadata": {},
   "outputs": [],
   "source": [
    "# Define custom F1 score metric\n",
    "def f1_score(y_true, y_pred):\n",
    "    true_positives = tf.keras.backend.sum(tf.keras.backend.round(tf.keras.backend.clip(y_true * y_pred, 0, 1)))\n",
    "    possible_positives = tf.keras.backend.sum(tf.keras.backend.round(tf.keras.backend.clip(y_true, 0, 1)))\n",
    "    predicted_positives = tf.keras.backend.sum(tf.keras.backend.round(tf.keras.backend.clip(y_pred, 0, 1)))\n",
    "    precision = true_positives / (predicted_positives + tf.keras.backend.epsilon())\n",
    "    recall = true_positives / (possible_positives + tf.keras.backend.epsilon())\n",
    "    f1_val = 2 * (precision * recall) / (precision + recall + tf.keras.backend.epsilon())\n",
    "    return f1_val"
   ]
  },
  {
   "cell_type": "code",
   "execution_count": 201,
   "metadata": {},
   "outputs": [
    {
     "name": "stdout",
     "output_type": "stream",
     "text": [
      "Epoch 1/10\n",
      "\u001b[1m41/41\u001b[0m \u001b[32m━━━━━━━━━━━━━━━━━━━━\u001b[0m\u001b[37m\u001b[0m \u001b[1m0s\u001b[0m 20ms/step - accuracy: 0.5016 - f1_score: 8.7356 - false_negatives: 68.2927 - false_positives: 99.5366 - loss: 0.7185 - true_negatives: 61.4634 - true_positives: 106.6585\n",
      "Epoch 1: saving model to /model\\weights-improvement-01-1.97.weights.h5\n",
      "\u001b[1m41/41\u001b[0m \u001b[32m━━━━━━━━━━━━━━━━━━━━\u001b[0m\u001b[37m\u001b[0m \u001b[1m7s\u001b[0m 52ms/step - accuracy: 0.5018 - f1_score: 8.7275 - false_negatives: 70.0238 - false_positives: 101.4762 - loss: 0.7182 - true_negatives: 63.1667 - true_positives: 108.8571 - val_accuracy: 0.6027 - val_f1_score: 1.9659 - val_false_negatives: 87.0000 - val_false_positives: 0.0000e+00 - val_loss: 0.6860 - val_true_negatives: 115.0000 - val_true_positives: 17.0000\n",
      "Epoch 2/10\n",
      "\u001b[1m39/41\u001b[0m \u001b[32m━━━━━━━━━━━━━━━━━━━\u001b[0m\u001b[37m━\u001b[0m \u001b[1m0s\u001b[0m 21ms/step - accuracy: 0.5432 - f1_score: 8.0568 - false_negatives: 68.3846 - false_positives: 79.6410 - loss: 0.6878 - true_negatives: 73.6667 - true_positives: 98.3077\n",
      "Epoch 2: saving model to /model\\weights-improvement-02-5.99.weights.h5\n",
      "\u001b[1m41/41\u001b[0m \u001b[32m━━━━━━━━━━━━━━━━━━━━\u001b[0m\u001b[37m\u001b[0m \u001b[1m1s\u001b[0m 26ms/step - accuracy: 0.5439 - f1_score: 8.0700 - false_negatives: 72.7857 - false_positives: 85.3810 - loss: 0.6876 - true_negatives: 79.2619 - true_positives: 106.0952 - val_accuracy: 0.7489 - val_f1_score: 5.9886 - val_false_negatives: 44.0000 - val_false_positives: 11.0000 - val_loss: 0.6657 - val_true_negatives: 104.0000 - val_true_positives: 60.0000\n",
      "Epoch 3/10\n",
      "\u001b[1m40/41\u001b[0m \u001b[32m━━━━━━━━━━━━━━━━━━━\u001b[0m\u001b[37m━\u001b[0m \u001b[1m0s\u001b[0m 20ms/step - accuracy: 0.6090 - f1_score: 8.2007 - false_negatives: 62.4750 - false_positives: 69.6250 - loss: 0.6541 - true_negatives: 87.5500 - true_positives: 108.3500\n",
      "Epoch 3: saving model to /model\\weights-improvement-03-8.42.weights.h5\n",
      "\u001b[1m41/41\u001b[0m \u001b[32m━━━━━━━━━━━━━━━━━━━━\u001b[0m\u001b[37m\u001b[0m \u001b[1m1s\u001b[0m 25ms/step - accuracy: 0.6084 - f1_score: 8.1912 - false_negatives: 65.7857 - false_positives: 72.5952 - loss: 0.6544 - true_negatives: 92.0476 - true_positives: 113.0952 - val_accuracy: 0.7534 - val_f1_score: 8.4162 - val_false_negatives: 10.0000 - val_false_positives: 44.0000 - val_loss: 0.6409 - val_true_negatives: 71.0000 - val_true_positives: 94.0000\n",
      "Epoch 4/10\n",
      "\u001b[1m41/41\u001b[0m \u001b[32m━━━━━━━━━━━━━━━━━━━━\u001b[0m\u001b[37m\u001b[0m \u001b[1m0s\u001b[0m 20ms/step - accuracy: 0.6633 - f1_score: 8.7737 - false_negatives: 47.5122 - false_positives: 64.7073 - loss: 0.6122 - true_negatives: 96.2927 - true_positives: 127.4390\n",
      "Epoch 4: saving model to /model\\weights-improvement-04-8.01.weights.h5\n",
      "\u001b[1m41/41\u001b[0m \u001b[32m━━━━━━━━━━━━━━━━━━━━\u001b[0m\u001b[37m\u001b[0m \u001b[1m1s\u001b[0m 25ms/step - accuracy: 0.6634 - f1_score: 8.7618 - false_negatives: 48.7381 - false_positives: 66.0000 - loss: 0.6120 - true_negatives: 98.6429 - true_positives: 130.1429 - val_accuracy: 0.7763 - val_f1_score: 8.0078 - val_false_negatives: 15.0000 - val_false_positives: 34.0000 - val_loss: 0.5317 - val_true_negatives: 81.0000 - val_true_positives: 89.0000\n",
      "Epoch 5/10\n",
      "\u001b[1m40/41\u001b[0m \u001b[32m━━━━━━━━━━━━━━━━━━━\u001b[0m\u001b[37m━\u001b[0m \u001b[1m0s\u001b[0m 22ms/step - accuracy: 0.6790 - f1_score: 8.3634 - false_negatives: 45.3000 - false_positives: 49.1750 - loss: 0.5633 - true_negatives: 108.0000 - true_positives: 125.5250\n",
      "Epoch 5: saving model to /model\\weights-improvement-05-7.69.weights.h5\n",
      "\u001b[1m41/41\u001b[0m \u001b[32m━━━━━━━━━━━━━━━━━━━━\u001b[0m\u001b[37m\u001b[0m \u001b[1m1s\u001b[0m 27ms/step - accuracy: 0.6812 - f1_score: 8.3506 - false_negatives: 47.4286 - false_positives: 51.0714 - loss: 0.5614 - true_negatives: 113.5714 - true_positives: 131.4524 - val_accuracy: 0.8128 - val_f1_score: 7.6866 - val_false_negatives: 16.0000 - val_false_positives: 25.0000 - val_loss: 0.4215 - val_true_negatives: 90.0000 - val_true_positives: 88.0000\n",
      "Epoch 6/10\n",
      "\u001b[1m39/41\u001b[0m \u001b[32m━━━━━━━━━━━━━━━━━━━\u001b[0m\u001b[37m━\u001b[0m \u001b[1m0s\u001b[0m 20ms/step - accuracy: 0.7913 - f1_score: 8.1344 - false_negatives: 34.0769 - false_positives: 33.8205 - loss: 0.4514 - true_negatives: 119.4872 - true_positives: 132.6154\n",
      "Epoch 6: saving model to /model\\weights-improvement-06-8.06.weights.h5\n",
      "\u001b[1m41/41\u001b[0m \u001b[32m━━━━━━━━━━━━━━━━━━━━\u001b[0m\u001b[37m\u001b[0m \u001b[1m1s\u001b[0m 25ms/step - accuracy: 0.7902 - f1_score: 8.1360 - false_negatives: 36.7619 - false_positives: 36.7143 - loss: 0.4521 - true_negatives: 127.9286 - true_positives: 142.1190 - val_accuracy: 0.8311 - val_f1_score: 8.0592 - val_false_negatives: 8.0000 - val_false_positives: 29.0000 - val_loss: 0.3939 - val_true_negatives: 86.0000 - val_true_positives: 96.0000\n",
      "Epoch 7/10\n",
      "\u001b[1m39/41\u001b[0m \u001b[32m━━━━━━━━━━━━━━━━━━━\u001b[0m\u001b[37m━\u001b[0m \u001b[1m0s\u001b[0m 21ms/step - accuracy: 0.8123 - f1_score: 8.5632 - false_negatives: 25.2308 - false_positives: 34.0256 - loss: 0.3992 - true_negatives: 119.2821 - true_positives: 141.4615\n",
      "Epoch 7: saving model to /model\\weights-improvement-07-7.52.weights.h5\n",
      "\u001b[1m41/41\u001b[0m \u001b[32m━━━━━━━━━━━━━━━━━━━━\u001b[0m\u001b[37m\u001b[0m \u001b[1m1s\u001b[0m 25ms/step - accuracy: 0.8124 - f1_score: 8.5495 - false_negatives: 27.0714 - false_positives: 36.5476 - loss: 0.3989 - true_negatives: 128.0952 - true_positives: 151.8095 - val_accuracy: 0.8813 - val_f1_score: 7.5210 - val_false_negatives: 11.0000 - val_false_positives: 15.0000 - val_loss: 0.3194 - val_true_negatives: 100.0000 - val_true_positives: 93.0000\n",
      "Epoch 8/10\n",
      "\u001b[1m40/41\u001b[0m \u001b[32m━━━━━━━━━━━━━━━━━━━\u001b[0m\u001b[37m━\u001b[0m \u001b[1m0s\u001b[0m 20ms/step - accuracy: 0.8583 - f1_score: 8.1686 - false_negatives: 24.5750 - false_positives: 22.8250 - loss: 0.3499 - true_negatives: 134.3500 - true_positives: 146.2500\n",
      "Epoch 8: saving model to /model\\weights-improvement-08-7.46.weights.h5\n",
      "\u001b[1m41/41\u001b[0m \u001b[32m━━━━━━━━━━━━━━━━━━━━\u001b[0m\u001b[37m\u001b[0m \u001b[1m1s\u001b[0m 25ms/step - accuracy: 0.8582 - f1_score: 8.1708 - false_negatives: 25.5952 - false_positives: 24.0238 - loss: 0.3504 - true_negatives: 140.6190 - true_positives: 153.2857 - val_accuracy: 0.8995 - val_f1_score: 7.4608 - val_false_negatives: 10.0000 - val_false_positives: 12.0000 - val_loss: 0.3074 - val_true_negatives: 103.0000 - val_true_positives: 94.0000\n",
      "Epoch 9/10\n",
      "\u001b[1m40/41\u001b[0m \u001b[32m━━━━━━━━━━━━━━━━━━━\u001b[0m\u001b[37m━\u001b[0m \u001b[1m0s\u001b[0m 22ms/step - accuracy: 0.8530 - f1_score: 8.7157 - false_negatives: 15.5500 - false_positives: 33.5000 - loss: 0.3438 - true_negatives: 123.6750 - true_positives: 155.2750\n",
      "Epoch 9: saving model to /model\\weights-improvement-09-7.62.weights.h5\n",
      "\u001b[1m41/41\u001b[0m \u001b[32m━━━━━━━━━━━━━━━━━━━━\u001b[0m\u001b[37m\u001b[0m \u001b[1m1s\u001b[0m 26ms/step - accuracy: 0.8529 - f1_score: 8.7086 - false_negatives: 16.3810 - false_positives: 35.0000 - loss: 0.3435 - true_negatives: 129.6429 - true_positives: 162.5000 - val_accuracy: 0.9224 - val_f1_score: 7.6218 - val_false_negatives: 5.0000 - val_false_positives: 12.0000 - val_loss: 0.2421 - val_true_negatives: 103.0000 - val_true_positives: 99.0000\n",
      "Epoch 10/10\n",
      "\u001b[1m41/41\u001b[0m \u001b[32m━━━━━━━━━━━━━━━━━━━━\u001b[0m\u001b[37m\u001b[0m \u001b[1m0s\u001b[0m 20ms/step - accuracy: 0.8849 - f1_score: 8.5819 - false_negatives: 14.8537 - false_positives: 23.0732 - loss: 0.2476 - true_negatives: 137.9268 - true_positives: 160.0976\n",
      "Epoch 10: saving model to /model\\weights-improvement-10-7.60.weights.h5\n",
      "\u001b[1m41/41\u001b[0m \u001b[32m━━━━━━━━━━━━━━━━━━━━\u001b[0m\u001b[37m\u001b[0m \u001b[1m1s\u001b[0m 25ms/step - accuracy: 0.8851 - f1_score: 8.5772 - false_negatives: 15.1905 - false_positives: 23.5000 - loss: 0.2476 - true_negatives: 141.1429 - true_positives: 163.6905 - val_accuracy: 0.9087 - val_f1_score: 7.5982 - val_false_negatives: 7.0000 - val_false_positives: 13.0000 - val_loss: 0.2349 - val_true_negatives: 102.0000 - val_true_positives: 97.0000\n"
     ]
    }
   ],
   "source": [
    "from tensorflow.keras.callbacks import ModelCheckpoint\n",
    "import os\n",
    "import numpy as np\n",
    "import tensorflow as tf\n",
    "from tensorflow.keras.optimizers import Adam\n",
    "\n",
    "model.compile(\n",
    "    loss='binary_crossentropy',\n",
    "    optimizer=Adam(amsgrad=True), \n",
    "    metrics=[\n",
    "        'accuracy',\n",
    "        tf.keras.metrics.TruePositives(name='true_positives'),\n",
    "        tf.keras.metrics.TrueNegatives(name='true_negatives'),\n",
    "        tf.keras.metrics.FalseNegatives(name='false_negatives'),\n",
    "        tf.keras.metrics.FalsePositives(name='false_positives'),\n",
    "        f1_score\n",
    "    ]\n",
    ")\n",
    "\n",
    "# Model checkpoints\n",
    "filepath = \"weights-improvement-{epoch:02d}-{val_f1_score:.2f}.weights.h5\"\n",
    "savemodel = '/model' \n",
    "checkpoint = ModelCheckpoint(\n",
    "    os.path.join(savemodel, filepath),\n",
    "    monitor='val_f1_score',\n",
    "    verbose=1,\n",
    "    save_best_only=False,\n",
    "    save_weights_only=True,\n",
    "    mode='auto'\n",
    ")\n",
    "\n",
    "# Ensure y_train and y_val are of type float32\n",
    "y_train = y_train.astype(np.float32)\n",
    "y_val = y_val.astype(np.float32)\n",
    "\n",
    "# Fit model\n",
    "callbacks_list = [checkpoint]\n",
    "history = model.fit(\n",
    "    x_train,\n",
    "    y_train,\n",
    "    batch_size=16,\n",
    "    verbose=1,\n",
    "    epochs=10,\n",
    "    validation_data=(x_val, y_val),\n",
    "    shuffle=False,\n",
    "    callbacks=callbacks_list\n",
    ")"
   ]
  },
  {
   "cell_type": "markdown",
   "metadata": {},
   "source": [
    "# Test with new data"
   ]
  },
  {
   "cell_type": "code",
   "execution_count": 202,
   "metadata": {},
   "outputs": [
    {
     "name": "stdout",
     "output_type": "stream",
     "text": [
      "\u001b[1m7/7\u001b[0m \u001b[32m━━━━━━━━━━━━━━━━━━━━\u001b[0m\u001b[37m\u001b[0m \u001b[1m0s\u001b[0m 29ms/step\n",
      "(219, 1)\n"
     ]
    }
   ],
   "source": [
    "y_test_pred = model.predict(x_test)\n",
    "print(y_test_pred.shape)"
   ]
  },
  {
   "cell_type": "code",
   "execution_count": 203,
   "metadata": {},
   "outputs": [
    {
     "data": {
      "text/plain": [
       "(219, 1)"
      ]
     },
     "execution_count": 203,
     "metadata": {},
     "output_type": "execute_result"
    }
   ],
   "source": [
    "y_pred = (y_test_pred >0.5).astype(int)\n",
    "y_pred.shape"
   ]
  },
  {
   "cell_type": "code",
   "execution_count": 204,
   "metadata": {},
   "outputs": [
    {
     "data": {
      "text/plain": [
       "(219,)"
      ]
     },
     "execution_count": 204,
     "metadata": {},
     "output_type": "execute_result"
    }
   ],
   "source": [
    "y_test.shape"
   ]
  },
  {
   "cell_type": "code",
   "execution_count": 205,
   "metadata": {},
   "outputs": [
    {
     "data": {
      "text/plain": [
       "(219, 1)"
      ]
     },
     "execution_count": 205,
     "metadata": {},
     "output_type": "execute_result"
    }
   ],
   "source": [
    "y_test_reshape = y_test.reshape(-1,1)\n",
    "y_test_reshape.shape"
   ]
  },
  {
   "cell_type": "code",
   "execution_count": 206,
   "metadata": {},
   "outputs": [
    {
     "name": "stdout",
     "output_type": "stream",
     "text": [
      "Accuracy in test set: 0.9360730593607306\n",
      "Accuracy in validation set: 0.9086757898330688\n"
     ]
    }
   ],
   "source": [
    "print(\"Accuracy in test set:\", accuracy_score(y_test_reshape, y_pred))\n",
    "print('Accuracy in validation set:',history.history['val_accuracy'][-1])"
   ]
  },
  {
   "cell_type": "markdown",
   "metadata": {},
   "source": [
    "-> So with base case equal to 93.9%, this model be overfit!"
   ]
  },
  {
   "cell_type": "markdown",
   "metadata": {},
   "source": [
    "# Save original model "
   ]
  },
  {
   "cell_type": "markdown",
   "metadata": {},
   "source": [
    "**Infor**<br>\n",
    "Name: BrainTurmor_v1<br>\n",
    "Accuracy in validation set: 0.9452054500579834<br>\n",
    "Accuracy in test set: 0.867579908675799<br>\n",
    "Status: Overfiting"
   ]
  },
  {
   "cell_type": "code",
   "execution_count": 134,
   "metadata": {},
   "outputs": [],
   "source": [
    "model.save('BrainTurmor_v1.keras')"
   ]
  }
 ],
 "metadata": {
  "kernelspec": {
   "display_name": "base",
   "language": "python",
   "name": "python3"
  },
  "language_info": {
   "codemirror_mode": {
    "name": "ipython",
    "version": 3
   },
   "file_extension": ".py",
   "mimetype": "text/x-python",
   "name": "python",
   "nbconvert_exporter": "python",
   "pygments_lexer": "ipython3",
   "version": "3.12.4"
  }
 },
 "nbformat": 4,
 "nbformat_minor": 2
}
