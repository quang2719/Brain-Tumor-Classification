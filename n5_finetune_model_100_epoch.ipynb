{
  "cells": [
    {
      "cell_type": "code",
      "execution_count": 1,
      "metadata": {
        "colab": {
          "base_uri": "https://localhost:8080/"
        },
        "id": "sRMa8XWr2mKc",
        "outputId": "00e01b69-d5f5-4386-9049-b2443990f298"
      },
      "outputs": [
        {
          "name": "stdout",
          "output_type": "stream",
          "text": [
            "Cloning into 'Brain-Tumor-Classification'...\n",
            "remote: Enumerating objects: 1311, done.\u001b[K\n",
            "remote: Counting objects: 100% (152/152), done.\u001b[K\n",
            "remote: Compressing objects: 100% (76/76), done.\u001b[K\n",
            "remote: Total 1311 (delta 86), reused 138 (delta 74), pack-reused 1159 (from 1)\u001b[K\n",
            "Receiving objects: 100% (1311/1311), 174.68 MiB | 10.07 MiB/s, done.\n",
            "Resolving deltas: 100% (87/87), done.\n",
            "Updating files: 100% (1167/1167), done.\n"
          ]
        }
      ],
      "source": [
        "!git clone https://github.com/quang2719/Brain-Tumor-Classification.git"
      ]
    },
    {
      "cell_type": "markdown",
      "metadata": {
        "id": "s5X2kozO2fyK"
      },
      "source": [
        "# Fine tune model using resnet 18"
      ]
    },
    {
      "cell_type": "markdown",
      "metadata": {
        "id": "IcHX_lah2fyL"
      },
      "source": [
        "## Why ResNet 18"
      ]
    },
    {
      "cell_type": "markdown",
      "metadata": {
        "id": "JfQReLsU2fyM"
      },
      "source": [
        "ResNet-18 is a convolutional neural network that is 18 layers deep. It is part of the ResNet (Residual Network) family, which introduced the concept of residual learning to address the vanishing gradient problem in deep networks. ResNet-18 is particularly known for its simplicity and ease of implementation, making it an excellent choice for fine-tuning tasks. Its relatively shallow architecture compared to other ResNet variants allows for faster training and inference, which is ideal for scenarios with limited computational resources. This makes ResNet-18 a popular model for transfer learning and fine-tuning on custom datasets."
      ]
    },
    {
      "cell_type": "markdown",
      "metadata": {
        "id": "1oOjB2sJ2fyM"
      },
      "source": [
        "# Preprocessing data"
      ]
    },
    {
      "cell_type": "code",
      "execution_count": 4,
      "metadata": {
        "id": "-qadLtj04Kwh"
      },
      "outputs": [],
      "source": [
        "import subprocess\n",
        "import sys\n",
        "\n",
        "def install_packages():\n",
        "    packages = [\n",
        "        \"opencv-python\",  # For cv2\n",
        "        \"numpy\",          # For np\n",
        "        \"tensorflow\",     # For tensorflow and keras\n",
        "        \"scikit-learn\",   # For sklearn\n",
        "        \"Pillow\",         # For PIL.Image\n",
        "    ]\n",
        "\n",
        "    for package in packages:\n",
        "        subprocess.check_call([sys.executable, \"-m\", \"pip\", \"install\", package])\n",
        "\n",
        "# Call the function to install packages\n",
        "install_packages()"
      ]
    },
    {
      "cell_type": "code",
      "execution_count": 11,
      "metadata": {
        "id": "YBrXwFzG2fyM"
      },
      "outputs": [],
      "source": [
        "import cv2\n",
        "import os\n",
        "import numpy as np\n",
        "import tensorflow as tf\n",
        "from sklearn.preprocessing import StandardScaler\n",
        "from tensorflow import keras\n",
        "from sklearn.svm import SVC\n",
        "from sklearn.metrics import classification_report, accuracy_score\n",
        "from keras.utils import normalize\n",
        "from PIL import Image\n",
        "from sklearn.model_selection import train_test_split"
      ]
    },
    {
      "cell_type": "code",
      "execution_count": null,
      "metadata": {
        "id": "G7EDIWVo5j2d"
      },
      "outputs": [],
      "source": []
    },
    {
      "cell_type": "code",
      "execution_count": null,
      "metadata": {
        "id": "uPTpbS365jMw"
      },
      "outputs": [],
      "source": [
        "\n"
      ]
    },
    {
      "cell_type": "code",
      "execution_count": 25,
      "metadata": {
        "id": "dPzeNF9j2fyN"
      },
      "outputs": [],
      "source": [
        "no_dir = os.listdir('/content/Brain-Tumor-Classification/data_no/data_no/NO/')\n",
        "yes_dir = os.listdir('/content/Brain-Tumor-Classification/data_yes/data_yes/YES')\n",
        "\n",
        "data_set,label = [],[]\n",
        "for i,cur_img_dir in enumerate(no_dir):\n",
        "    #check type of image\n",
        "    if cur_img_dir.split('.')[1]=='jpg':\n",
        "        img = cv2.imread('/content/Brain-Tumor-Classification/data_no/data_no/NO/' + cur_img_dir)\n",
        "        img = Image.fromarray(img,'RGB')\n",
        "        img = img.resize((64,64))\n",
        "        data_set.append(np.array(img))\n",
        "        label.append(0)\n",
        "\n"
      ]
    },
    {
      "cell_type": "code",
      "execution_count": 27,
      "metadata": {
        "id": "aRYD9NBg8C8R"
      },
      "outputs": [],
      "source": [
        "\n",
        "\n",
        "for i, cur_img_dir in enumerate(yes_dir):\n",
        "    # Check if the file is a .jpg image\n",
        "    if cur_img_dir.lower().endswith('.jpg'):\n",
        "        img_path = '/content/Brain-Tumor-Classification/data_yes/data_yes/YES/' + cur_img_dir\n",
        "        img = cv2.imread(img_path)\n",
        "\n",
        "        # Check if the image was loaded successfully\n",
        "        if img is None:\n",
        "            print(f\"Error loading image: {img_path}. Skipping this file.\")\n",
        "            continue  # Skip to the next image\n",
        "\n",
        "        try:\n",
        "            img = Image.fromarray(img, 'RGB')  # Convert to PIL Image\n",
        "            img = img.resize((64, 64))  # Resize the image\n",
        "            data_set.append(np.array(img))  # Add image to dataset\n",
        "            label.append(1)  # Add label 1 for 'yes' class\n",
        "        except Exception as e:\n",
        "            print(f\"Error processing image {cur_img_dir}: {e}\")\n",
        "            continue  # Skip to the next image if there's an error\n"
      ]
    },
    {
      "cell_type": "code",
      "execution_count": 28,
      "metadata": {
        "colab": {
          "base_uri": "https://localhost:8080/"
        },
        "id": "hQaIGAWw2fyO",
        "outputId": "f0a92a29-b84a-4997-eaca-d2d0bd488963"
      },
      "outputs": [
        {
          "data": {
            "text/plain": [
              "(1087, 64, 64, 3)"
            ]
          },
          "execution_count": 28,
          "metadata": {},
          "output_type": "execute_result"
        }
      ],
      "source": [
        "data_set = np.array(data_set)\n",
        "label = np.array(label)\n",
        "data_set.shape"
      ]
    },
    {
      "cell_type": "markdown",
      "metadata": {
        "id": "zW6Plvf-2fyO"
      },
      "source": [
        "## Split and normalize data\n"
      ]
    },
    {
      "cell_type": "code",
      "execution_count": 29,
      "metadata": {
        "id": "CMkPgNMn2fyO"
      },
      "outputs": [],
      "source": [
        "seed = 99\n",
        "tf.random.set_seed(seed)\n",
        "np.random.seed(seed)\n"
      ]
    },
    {
      "cell_type": "code",
      "execution_count": 30,
      "metadata": {
        "colab": {
          "base_uri": "https://localhost:8080/"
        },
        "id": "HeNMXTBY2fyP",
        "outputId": "47fe55f7-e2aa-4cf7-ca96-4094783f3724"
      },
      "outputs": [
        {
          "name": "stdout",
          "output_type": "stream",
          "text": [
            "X train shape: (651, 64, 64, 3)\n",
            "Y train shape: (651,)\n",
            "X test shape: (218, 64, 64, 3)\n",
            "Y test shape: (218,)\n",
            "X validation shape: (218, 64, 64, 3)\n",
            "Y validation shape: (218, 64, 64, 3)\n"
          ]
        }
      ],
      "source": [
        "x_train,x_test,y_train,y_test = train_test_split(\n",
        "    data_set,label,\n",
        "    test_size=0.2,\n",
        "    random_state=9\n",
        "    )\n",
        "x_train,x_val,y_train,y_val = train_test_split(\n",
        "        x_train,y_train,\n",
        "    test_size=0.25,\n",
        "    random_state=9\n",
        ")\n",
        "print(f'X train shape: {x_train.shape}\\nY train shape: {y_train.shape}\\nX test shape: {x_test.shape}\\nY test shape: {y_test.shape}\\nX validation shape: {x_val.shape}\\nY validation shape: {x_val.shape}')"
      ]
    },
    {
      "cell_type": "markdown",
      "metadata": {
        "id": "Yr4GyIdO2fyP"
      },
      "source": [
        "### Adding scaler method of nb4\n"
      ]
    },
    {
      "cell_type": "code",
      "execution_count": 32,
      "metadata": {
        "colab": {
          "base_uri": "https://localhost:8080/"
        },
        "id": "-L3uK9QS2fyP",
        "outputId": "9362fc59-0503-4288-ea19-e37ce6117a1a"
      },
      "outputs": [
        {
          "name": "stderr",
          "output_type": "stream",
          "text": [
            "/usr/local/lib/python3.10/dist-packages/sklearn/base.py:348: InconsistentVersionWarning: Trying to unpickle estimator MinMaxScaler from version 1.4.1.post1 when using version 1.3.2. This might lead to breaking code or invalid results. Use at your own risk. For more info please refer to:\n",
            "https://scikit-learn.org/stable/model_persistence.html#security-maintainability-limitations\n",
            "  warnings.warn(\n"
          ]
        }
      ],
      "source": [
        "from sklearn.preprocessing import MinMaxScaler\n",
        "import numpy as np\n",
        "import joblib\n",
        "# using scaler of nb4\n",
        "scaler = joblib.load('/content/Brain-Tumor-Classification/scaler.pkl')\n",
        "# Reshape data to fit with MinMaxScaler\n",
        "x_train_reshaped = x_train.reshape(-1, x_train.shape[-1])\n",
        "x_test_reshaped = x_test.reshape(-1, x_test.shape[-1])\n",
        "x_val_reshaped = x_val.reshape(-1, x_val.shape[-1])\n",
        "\n",
        "x_train_reshaped = scaler.fit_transform(x_train_reshaped)\n",
        "x_test_reshaped = scaler.transform(x_test_reshaped)\n",
        "x_val_reshaped = scaler.transform(x_val_reshaped)\n",
        "\n",
        "# Reshape to original shape\n",
        "x_train = x_train_reshaped.reshape(x_train.shape)\n",
        "x_test = x_test_reshaped.reshape(x_test.shape)\n",
        "x_val = x_val_reshaped.reshape(x_val.shape)"
      ]
    },
    {
      "cell_type": "markdown",
      "metadata": {
        "id": "PLAXIDKT2fyP"
      },
      "source": [
        "# Building model"
      ]
    },
    {
      "cell_type": "markdown",
      "metadata": {
        "id": "rvT_QouK2fyP"
      },
      "source": [
        "## download lib\n"
      ]
    },
    {
      "cell_type": "code",
      "execution_count": 33,
      "metadata": {
        "colab": {
          "base_uri": "https://localhost:8080/"
        },
        "id": "Sk1pX9eo2fyP",
        "outputId": "0f530c5d-96f2-4bce-93db-1d896c7aa95d"
      },
      "outputs": [
        {
          "name": "stdout",
          "output_type": "stream",
          "text": [
            "Requirement already satisfied: torch in /usr/local/lib/python3.10/dist-packages (2.4.0+cu121)\n",
            "Requirement already satisfied: torchvision in /usr/local/lib/python3.10/dist-packages (0.19.0+cu121)\n",
            "Requirement already satisfied: filelock in /usr/local/lib/python3.10/dist-packages (from torch) (3.15.4)\n",
            "Requirement already satisfied: typing-extensions>=4.8.0 in /usr/local/lib/python3.10/dist-packages (from torch) (4.12.2)\n",
            "Requirement already satisfied: sympy in /usr/local/lib/python3.10/dist-packages (from torch) (1.13.2)\n",
            "Requirement already satisfied: networkx in /usr/local/lib/python3.10/dist-packages (from torch) (3.3)\n",
            "Requirement already satisfied: jinja2 in /usr/local/lib/python3.10/dist-packages (from torch) (3.1.4)\n",
            "Requirement already satisfied: fsspec in /usr/local/lib/python3.10/dist-packages (from torch) (2024.6.1)\n",
            "Requirement already satisfied: numpy in /usr/local/lib/python3.10/dist-packages (from torchvision) (1.26.4)\n",
            "Requirement already satisfied: pillow!=8.3.*,>=5.3.0 in /usr/local/lib/python3.10/dist-packages (from torchvision) (9.4.0)\n",
            "Requirement already satisfied: MarkupSafe>=2.0 in /usr/local/lib/python3.10/dist-packages (from jinja2->torch) (2.1.5)\n",
            "Requirement already satisfied: mpmath<1.4,>=1.1.0 in /usr/local/lib/python3.10/dist-packages (from sympy->torch) (1.3.0)\n"
          ]
        }
      ],
      "source": [
        "!pip install torch torchvision"
      ]
    },
    {
      "cell_type": "code",
      "execution_count": 34,
      "metadata": {
        "colab": {
          "base_uri": "https://localhost:8080/"
        },
        "id": "5aPMyxU_2fyQ",
        "outputId": "f85ec561-8cda-4622-b445-68c2155fcd01"
      },
      "outputs": [
        {
          "name": "stderr",
          "output_type": "stream",
          "text": [
            "/usr/local/lib/python3.10/dist-packages/torchvision/models/_utils.py:208: UserWarning: The parameter 'pretrained' is deprecated since 0.13 and may be removed in the future, please use 'weights' instead.\n",
            "  warnings.warn(\n",
            "/usr/local/lib/python3.10/dist-packages/torchvision/models/_utils.py:223: UserWarning: Arguments other than a weight enum or `None` for 'weights' are deprecated since 0.13 and may be removed in the future. The current behavior is equivalent to passing `weights=ResNet18_Weights.IMAGENET1K_V1`. You can also use `weights=ResNet18_Weights.DEFAULT` to get the most up-to-date weights.\n",
            "  warnings.warn(msg)\n",
            "Downloading: \"https://download.pytorch.org/models/resnet18-f37072fd.pth\" to /root/.cache/torch/hub/checkpoints/resnet18-f37072fd.pth\n",
            "100%|██████████| 44.7M/44.7M [00:00<00:00, 98.3MB/s]\n"
          ]
        }
      ],
      "source": [
        "from torchvision.models import resnet18\n",
        "model = resnet18(pretrained=True)\n"
      ]
    },
    {
      "cell_type": "markdown",
      "metadata": {
        "id": "R2ijF7x42fyQ"
      },
      "source": [
        "**update 05/09 - change output layer**"
      ]
    },
    {
      "cell_type": "code",
      "execution_count": 35,
      "metadata": {
        "id": "hk8yml202fyQ"
      },
      "outputs": [],
      "source": [
        "import torch.nn as nn\n",
        "import torch\n",
        "\n",
        "# Adding more layer and sigmoid layer for output\n",
        "\n",
        "class CustomResNet18(nn.Module):\n",
        "    def __init__(self, original_model):\n",
        "        super(CustomResNet18, self).__init__()\n",
        "        self.features = nn.Sequential(*list(original_model.children())[:-1])  # Remove the last fully connected layer\n",
        "        self.flatten = nn.Flatten()\n",
        "        self.fc1 = nn.Linear(512, 64)\n",
        "        self.relu = nn.ReLU()\n",
        "        self.dropout = nn.Dropout(0.2)\n",
        "        self.fc2 = nn.Linear(64, 1)\n",
        "        self.sigmoid = nn.Sigmoid()\n",
        "\n",
        "    def forward(self, x):\n",
        "        x = self.features(x)\n",
        "        x = self.flatten(x)\n",
        "        x = self.fc1(x)\n",
        "        x = self.relu(x)\n",
        "        x = self.dropout(x)\n",
        "        x = self.fc2(x)\n",
        "        x = self.sigmoid(x)\n",
        "        return x\n",
        "\n",
        "# Initila ResNet18 model\n",
        "model = CustomResNet18(model)"
      ]
    },
    {
      "cell_type": "code",
      "execution_count": 36,
      "metadata": {
        "colab": {
          "base_uri": "https://localhost:8080/"
        },
        "id": "B1c-T6bw2fyQ",
        "outputId": "b2982915-7cd3-40ef-8636-be1cad4f27bd"
      },
      "outputs": [
        {
          "name": "stdout",
          "output_type": "stream",
          "text": [
            "Requirement already satisfied: torchsummary in /usr/local/lib/python3.10/dist-packages (1.5.1)\n"
          ]
        }
      ],
      "source": [
        "pip install torchsummary"
      ]
    },
    {
      "cell_type": "code",
      "execution_count": 37,
      "metadata": {
        "id": "lDzE3G2_2fyQ"
      },
      "outputs": [],
      "source": [
        "#config cpu, gpu\n",
        "device = torch.device(\"cuda\" if torch.cuda.is_available() else \"cpu\")\n",
        "model = model.to(device)"
      ]
    },
    {
      "cell_type": "code",
      "execution_count": 38,
      "metadata": {
        "colab": {
          "base_uri": "https://localhost:8080/"
        },
        "id": "p1dOwNkD2fyQ",
        "outputId": "f8977fcf-8cde-4e8e-f9c9-5986907b051c"
      },
      "outputs": [
        {
          "name": "stdout",
          "output_type": "stream",
          "text": [
            "X train shape: (651, 64, 64, 3)\n",
            "Y train shape: (651,)\n",
            "X test shape: (218, 64, 64, 3)\n",
            "Y test shape: (218,)\n",
            "X validation shape: (218, 64, 64, 3)\n",
            "Y validation shape: (218, 64, 64, 3)\n"
          ]
        }
      ],
      "source": [
        "print(f'X train shape: {x_train.shape}\\nY train shape: {y_train.shape}\\nX test shape: {x_test.shape}\\nY test shape: {y_test.shape}\\nX validation shape: {x_val.shape}\\nY validation shape: {x_val.shape}')\n"
      ]
    },
    {
      "cell_type": "code",
      "execution_count": 39,
      "metadata": {
        "colab": {
          "base_uri": "https://localhost:8080/"
        },
        "id": "_v78s-4L2fyR",
        "outputId": "75d84842-621a-4779-b8f6-2d950f73a643"
      },
      "outputs": [
        {
          "name": "stdout",
          "output_type": "stream",
          "text": [
            "----------------------------------------------------------------\n",
            "        Layer (type)               Output Shape         Param #\n",
            "================================================================\n",
            "            Conv2d-1           [-1, 64, 32, 32]           9,408\n",
            "       BatchNorm2d-2           [-1, 64, 32, 32]             128\n",
            "              ReLU-3           [-1, 64, 32, 32]               0\n",
            "         MaxPool2d-4           [-1, 64, 16, 16]               0\n",
            "            Conv2d-5           [-1, 64, 16, 16]          36,864\n",
            "       BatchNorm2d-6           [-1, 64, 16, 16]             128\n",
            "              ReLU-7           [-1, 64, 16, 16]               0\n",
            "            Conv2d-8           [-1, 64, 16, 16]          36,864\n",
            "       BatchNorm2d-9           [-1, 64, 16, 16]             128\n",
            "             ReLU-10           [-1, 64, 16, 16]               0\n",
            "       BasicBlock-11           [-1, 64, 16, 16]               0\n",
            "           Conv2d-12           [-1, 64, 16, 16]          36,864\n",
            "      BatchNorm2d-13           [-1, 64, 16, 16]             128\n",
            "             ReLU-14           [-1, 64, 16, 16]               0\n",
            "           Conv2d-15           [-1, 64, 16, 16]          36,864\n",
            "      BatchNorm2d-16           [-1, 64, 16, 16]             128\n",
            "             ReLU-17           [-1, 64, 16, 16]               0\n",
            "       BasicBlock-18           [-1, 64, 16, 16]               0\n",
            "           Conv2d-19            [-1, 128, 8, 8]          73,728\n",
            "      BatchNorm2d-20            [-1, 128, 8, 8]             256\n",
            "             ReLU-21            [-1, 128, 8, 8]               0\n",
            "           Conv2d-22            [-1, 128, 8, 8]         147,456\n",
            "      BatchNorm2d-23            [-1, 128, 8, 8]             256\n",
            "           Conv2d-24            [-1, 128, 8, 8]           8,192\n",
            "      BatchNorm2d-25            [-1, 128, 8, 8]             256\n",
            "             ReLU-26            [-1, 128, 8, 8]               0\n",
            "       BasicBlock-27            [-1, 128, 8, 8]               0\n",
            "           Conv2d-28            [-1, 128, 8, 8]         147,456\n",
            "      BatchNorm2d-29            [-1, 128, 8, 8]             256\n",
            "             ReLU-30            [-1, 128, 8, 8]               0\n",
            "           Conv2d-31            [-1, 128, 8, 8]         147,456\n",
            "      BatchNorm2d-32            [-1, 128, 8, 8]             256\n",
            "             ReLU-33            [-1, 128, 8, 8]               0\n",
            "       BasicBlock-34            [-1, 128, 8, 8]               0\n",
            "           Conv2d-35            [-1, 256, 4, 4]         294,912\n",
            "      BatchNorm2d-36            [-1, 256, 4, 4]             512\n",
            "             ReLU-37            [-1, 256, 4, 4]               0\n",
            "           Conv2d-38            [-1, 256, 4, 4]         589,824\n",
            "      BatchNorm2d-39            [-1, 256, 4, 4]             512\n",
            "           Conv2d-40            [-1, 256, 4, 4]          32,768\n",
            "      BatchNorm2d-41            [-1, 256, 4, 4]             512\n",
            "             ReLU-42            [-1, 256, 4, 4]               0\n",
            "       BasicBlock-43            [-1, 256, 4, 4]               0\n",
            "           Conv2d-44            [-1, 256, 4, 4]         589,824\n",
            "      BatchNorm2d-45            [-1, 256, 4, 4]             512\n",
            "             ReLU-46            [-1, 256, 4, 4]               0\n",
            "           Conv2d-47            [-1, 256, 4, 4]         589,824\n",
            "      BatchNorm2d-48            [-1, 256, 4, 4]             512\n",
            "             ReLU-49            [-1, 256, 4, 4]               0\n",
            "       BasicBlock-50            [-1, 256, 4, 4]               0\n",
            "           Conv2d-51            [-1, 512, 2, 2]       1,179,648\n",
            "      BatchNorm2d-52            [-1, 512, 2, 2]           1,024\n",
            "             ReLU-53            [-1, 512, 2, 2]               0\n",
            "           Conv2d-54            [-1, 512, 2, 2]       2,359,296\n",
            "      BatchNorm2d-55            [-1, 512, 2, 2]           1,024\n",
            "           Conv2d-56            [-1, 512, 2, 2]         131,072\n",
            "      BatchNorm2d-57            [-1, 512, 2, 2]           1,024\n",
            "             ReLU-58            [-1, 512, 2, 2]               0\n",
            "       BasicBlock-59            [-1, 512, 2, 2]               0\n",
            "           Conv2d-60            [-1, 512, 2, 2]       2,359,296\n",
            "      BatchNorm2d-61            [-1, 512, 2, 2]           1,024\n",
            "             ReLU-62            [-1, 512, 2, 2]               0\n",
            "           Conv2d-63            [-1, 512, 2, 2]       2,359,296\n",
            "      BatchNorm2d-64            [-1, 512, 2, 2]           1,024\n",
            "             ReLU-65            [-1, 512, 2, 2]               0\n",
            "       BasicBlock-66            [-1, 512, 2, 2]               0\n",
            "AdaptiveAvgPool2d-67            [-1, 512, 1, 1]               0\n",
            "          Flatten-68                  [-1, 512]               0\n",
            "           Linear-69                   [-1, 64]          32,832\n",
            "             ReLU-70                   [-1, 64]               0\n",
            "          Dropout-71                   [-1, 64]               0\n",
            "           Linear-72                    [-1, 1]              65\n",
            "          Sigmoid-73                    [-1, 1]               0\n",
            "================================================================\n",
            "Total params: 11,209,409\n",
            "Trainable params: 11,209,409\n",
            "Non-trainable params: 0\n",
            "----------------------------------------------------------------\n",
            "Input size (MB): 0.05\n",
            "Forward/backward pass size (MB): 5.13\n",
            "Params size (MB): 42.76\n",
            "Estimated Total Size (MB): 47.94\n",
            "----------------------------------------------------------------\n"
          ]
        }
      ],
      "source": [
        "from torchsummary import summary\n",
        "summary(model, (3, 64, 64)) # model, input shape"
      ]
    },
    {
      "cell_type": "markdown",
      "metadata": {
        "id": "0f1zwmja2fyR"
      },
      "source": [
        "### Prepare data"
      ]
    },
    {
      "cell_type": "code",
      "execution_count": 40,
      "metadata": {
        "id": "x7B0jeKy2fyR"
      },
      "outputs": [],
      "source": [
        "from torch.utils.data import DataLoader, TensorDataset\n",
        "import torch\n",
        "\n",
        "#convert data to tensor\n",
        "# Thay đổi thứ tự các chiều của tensor từ (batch_size, height, width, channels)\n",
        "# thành (batch_size, channels, height, width) (định dạng pytorch)\n",
        "X_train_tensor = torch.tensor(x_train, dtype=torch.float32).permute(0, 3, 1, 2)\n",
        "Y_train_tensor = torch.tensor(y_train, dtype=torch.float32).unsqueeze(1)  # Thêm chiều cho Y_train\n",
        "X_test_tensor = torch.tensor(x_test, dtype=torch.float32).permute(0, 3, 1, 2)\n",
        "Y_test_tensor = torch.tensor(y_test, dtype=torch.float32).unsqueeze(1)\n",
        "X_val_tensor = torch.tensor(x_val, dtype=torch.float32).permute(0, 3, 1, 2)\n",
        "Y_val_tensor = torch.tensor(y_val, dtype=torch.float32).unsqueeze(1)\n",
        "\n",
        "# Create data loader\n",
        "train_dataset = TensorDataset(X_train_tensor, Y_train_tensor)\n",
        "test_dataset = TensorDataset(X_test_tensor, Y_test_tensor)\n",
        "val_dataset = TensorDataset(X_val_tensor, Y_val_tensor)\n",
        "\n",
        "train_loader = DataLoader(train_dataset, batch_size=32, shuffle=True)\n",
        "test_loader = DataLoader(test_dataset, batch_size=32, shuffle=False)\n",
        "val_loader = DataLoader(val_dataset, batch_size=32, shuffle=False)"
      ]
    },
    {
      "cell_type": "markdown",
      "metadata": {
        "id": "MbY_4ner2fyR"
      },
      "source": [
        "### Define loss and optimizer"
      ]
    },
    {
      "cell_type": "code",
      "execution_count": 41,
      "metadata": {
        "id": "YUGneJ5v2fyR"
      },
      "outputs": [],
      "source": [
        "import torch.optim as optim\n",
        "\n",
        "criterion = nn.BCELoss()  # Binary Cross Entropy Loss cho phân loại nhị phân\n",
        "optimizer = optim.Adam(model.parameters(), lr=0.001, amsgrad=True)  # Sử dụng Adam với amsgrad=True"
      ]
    },
    {
      "cell_type": "markdown",
      "metadata": {
        "id": "CiQSj6cz2fyR"
      },
      "source": [
        "## Training model"
      ]
    },
    {
      "cell_type": "markdown",
      "metadata": {
        "id": "UbwzQPVi81ZF"
      },
      "source": [
        "update: training with 100 epoch"
      ]
    },
    {
      "cell_type": "code",
      "execution_count": 42,
      "metadata": {
        "colab": {
          "base_uri": "https://localhost:8080/"
        },
        "id": "DGzs0sI82fyR",
        "outputId": "ac97c6b3-2709-4f8a-893a-247400fdc4f4"
      },
      "outputs": [
        {
          "name": "stdout",
          "output_type": "stream",
          "text": [
            "Epoch 1/100, Loss: 0.26694502113830476, Val Loss: 2.1750812019620622, Val Accuracy: 67.43119266055047%\n",
            "Epoch 2/100, Loss: 0.080888705527676, Val Loss: 0.1092647910118103, Val Accuracy: 95.87155963302752%\n",
            "Epoch 3/100, Loss: 0.08684430545240286, Val Loss: 0.18036568963101932, Val Accuracy: 95.41284403669725%\n",
            "Epoch 4/100, Loss: 0.13892176929151728, Val Loss: 0.16461577931685106, Val Accuracy: 95.87155963302752%\n",
            "Epoch 5/100, Loss: 0.05730238508078314, Val Loss: 0.11776402832141944, Val Accuracy: 97.24770642201835%\n",
            "Epoch 6/100, Loss: 0.010735394266833152, Val Loss: 0.10232499175305877, Val Accuracy: 96.78899082568807%\n",
            "Epoch 7/100, Loss: 0.0034636916742394014, Val Loss: 0.1517053943659578, Val Accuracy: 96.3302752293578%\n",
            "Epoch 8/100, Loss: 0.005566853330708996, Val Loss: 0.20263799925201706, Val Accuracy: 96.3302752293578%\n",
            "Epoch 9/100, Loss: 0.06566739016922102, Val Loss: 0.2901208507163184, Val Accuracy: 93.57798165137615%\n",
            "Epoch 10/100, Loss: 0.02749325704228665, Val Loss: 0.14486593646662577, Val Accuracy: 94.03669724770643%\n",
            "Epoch 11/100, Loss: 0.021503214261472402, Val Loss: 0.3709255499499185, Val Accuracy: 88.9908256880734%\n",
            "Epoch 12/100, Loss: 0.04415646519157149, Val Loss: 1.0524654388427734, Val Accuracy: 83.02752293577981%\n",
            "Epoch 13/100, Loss: 0.06184807588856313, Val Loss: 0.14639108681253024, Val Accuracy: 94.95412844036697%\n",
            "Epoch 14/100, Loss: 0.024395841764219637, Val Loss: 0.48176628776959013, Val Accuracy: 85.3211009174312%\n",
            "Epoch 15/100, Loss: 0.015532870721515445, Val Loss: 0.47712908898081097, Val Accuracy: 88.9908256880734%\n",
            "Epoch 16/100, Loss: 0.020985125814886055, Val Loss: 0.09337081036730004, Val Accuracy: 96.78899082568807%\n",
            "Epoch 17/100, Loss: 0.014965328576398037, Val Loss: 0.17394030466675758, Val Accuracy: 95.87155963302752%\n",
            "Epoch 18/100, Loss: 0.012170930667447724, Val Loss: 0.1007688155929957, Val Accuracy: 96.3302752293578%\n",
            "Epoch 19/100, Loss: 0.0014026778683598553, Val Loss: 0.1117467579564878, Val Accuracy: 97.70642201834862%\n",
            "Epoch 20/100, Loss: 0.003498533632020034, Val Loss: 0.0877989328250156, Val Accuracy: 98.1651376146789%\n",
            "Epoch 21/100, Loss: 0.005464506380251676, Val Loss: 0.09092082722677983, Val Accuracy: 97.70642201834862%\n",
            "Epoch 22/100, Loss: 0.009521517959087976, Val Loss: 0.39338218527180807, Val Accuracy: 91.74311926605505%\n",
            "Epoch 23/100, Loss: 0.011888494827352198, Val Loss: 0.11697839451621153, Val Accuracy: 97.24770642201835%\n",
            "Epoch 24/100, Loss: 0.013724804453280134, Val Loss: 0.48831647421632496, Val Accuracy: 88.07339449541284%\n",
            "Epoch 25/100, Loss: 0.031278816373655684, Val Loss: 0.5057139439242226, Val Accuracy: 88.07339449541284%\n",
            "Epoch 26/100, Loss: 0.07806538534350693, Val Loss: 0.29240081352846964, Val Accuracy: 88.53211009174312%\n",
            "Epoch 27/100, Loss: 0.013833319649815426, Val Loss: 0.13234145626691834, Val Accuracy: 97.24770642201835%\n",
            "Epoch 28/100, Loss: 0.001338054781496924, Val Loss: 0.06584592030516692, Val Accuracy: 97.24770642201835%\n",
            "Epoch 29/100, Loss: 0.00040389413646023186, Val Loss: 0.06995951568907392, Val Accuracy: 97.70642201834862%\n",
            "Epoch 30/100, Loss: 0.00023348148707078682, Val Loss: 0.0782164970296435, Val Accuracy: 97.70642201834862%\n",
            "Epoch 31/100, Loss: 0.00020273171477518708, Val Loss: 0.07590230070387147, Val Accuracy: 97.70642201834862%\n",
            "Epoch 32/100, Loss: 0.00023302079526252956, Val Loss: 0.07220178218475277, Val Accuracy: 97.70642201834862%\n",
            "Epoch 33/100, Loss: 0.00020393450488752154, Val Loss: 0.07531232444203592, Val Accuracy: 97.70642201834862%\n",
            "Epoch 34/100, Loss: 0.0001311317953098166, Val Loss: 0.07631212798047013, Val Accuracy: 97.24770642201835%\n",
            "Epoch 35/100, Loss: 7.71238727403605e-05, Val Loss: 0.08015657352682735, Val Accuracy: 97.24770642201835%\n",
            "Epoch 36/100, Loss: 0.00013418704002972283, Val Loss: 0.080298026125612, Val Accuracy: 97.24770642201835%\n",
            "Epoch 37/100, Loss: 0.00012115360251690228, Val Loss: 0.08790258444579584, Val Accuracy: 97.70642201834862%\n",
            "Epoch 38/100, Loss: 0.00012535359495640953, Val Loss: 0.0792979313493041, Val Accuracy: 97.24770642201835%\n",
            "Epoch 39/100, Loss: 8.284918887858068e-05, Val Loss: 0.08348745358775236, Val Accuracy: 97.24770642201835%\n",
            "Epoch 40/100, Loss: 8.69344426280891e-05, Val Loss: 0.08625816243667421, Val Accuracy: 97.24770642201835%\n",
            "Epoch 41/100, Loss: 9.801759616883439e-05, Val Loss: 0.08410541727789678, Val Accuracy: 97.24770642201835%\n",
            "Epoch 42/100, Loss: 4.8708005362554796e-05, Val Loss: 0.0919553972759916, Val Accuracy: 97.24770642201835%\n",
            "Epoch 43/100, Loss: 5.057308865053485e-05, Val Loss: 0.08341390281982188, Val Accuracy: 97.24770642201835%\n",
            "Epoch 44/100, Loss: 6.992674822131881e-05, Val Loss: 0.09697864822270016, Val Accuracy: 97.24770642201835%\n",
            "Epoch 45/100, Loss: 5.281809344957028e-05, Val Loss: 0.09751903014382281, Val Accuracy: 97.70642201834862%\n",
            "Epoch 46/100, Loss: 4.150075104310721e-05, Val Loss: 0.09156604832345952, Val Accuracy: 97.24770642201835%\n",
            "Epoch 47/100, Loss: 5.085180505591866e-05, Val Loss: 0.09379874599523776, Val Accuracy: 97.24770642201835%\n",
            "Epoch 48/100, Loss: 4.163098780433453e-05, Val Loss: 0.0985185979079688, Val Accuracy: 97.70642201834862%\n",
            "Epoch 49/100, Loss: 3.769282366625876e-05, Val Loss: 0.09583768458729278, Val Accuracy: 97.24770642201835%\n",
            "Epoch 50/100, Loss: 0.00010406589184900181, Val Loss: 0.09735836476777747, Val Accuracy: 97.24770642201835%\n",
            "Epoch 51/100, Loss: 0.00010931523790228918, Val Loss: 0.08690236608838729, Val Accuracy: 97.24770642201835%\n",
            "Epoch 52/100, Loss: 3.908483272209109e-05, Val Loss: 0.09629204653278325, Val Accuracy: 97.70642201834862%\n",
            "Epoch 53/100, Loss: 4.378628962816341e-05, Val Loss: 0.09916363159884765, Val Accuracy: 97.70642201834862%\n",
            "Epoch 54/100, Loss: 2.192532942249922e-05, Val Loss: 0.10669181435826301, Val Accuracy: 97.70642201834862%\n",
            "Epoch 55/100, Loss: 8.419351678683251e-05, Val Loss: 0.0904405532076323, Val Accuracy: 97.70642201834862%\n",
            "Epoch 56/100, Loss: 3.062976215265475e-05, Val Loss: 0.09619471300019151, Val Accuracy: 97.70642201834862%\n",
            "Epoch 57/100, Loss: 4.225006374066912e-05, Val Loss: 0.10805170993470321, Val Accuracy: 97.70642201834862%\n",
            "Epoch 58/100, Loss: 2.6882285315618253e-05, Val Loss: 0.10482997270134677, Val Accuracy: 97.70642201834862%\n",
            "Epoch 59/100, Loss: 3.8996828845397214e-05, Val Loss: 0.09720008768947862, Val Accuracy: 97.70642201834862%\n",
            "Epoch 60/100, Loss: 2.5247370796846336e-05, Val Loss: 0.10426101915696304, Val Accuracy: 97.70642201834862%\n",
            "Epoch 61/100, Loss: 2.319507698952553e-05, Val Loss: 0.102893317548608, Val Accuracy: 97.70642201834862%\n",
            "Epoch 62/100, Loss: 3.753600012281649e-05, Val Loss: 0.1059859363283197, Val Accuracy: 97.70642201834862%\n",
            "Epoch 63/100, Loss: 2.573985038690721e-05, Val Loss: 0.11999282552070716, Val Accuracy: 97.70642201834862%\n",
            "Epoch 64/100, Loss: 5.5781347728476425e-05, Val Loss: 0.10799394486821257, Val Accuracy: 97.70642201834862%\n",
            "Epoch 65/100, Loss: 2.5815200588329478e-05, Val Loss: 0.10853841991463144, Val Accuracy: 97.70642201834862%\n",
            "Epoch 66/100, Loss: 1.920084059747751e-05, Val Loss: 0.11460582507840757, Val Accuracy: 97.70642201834862%\n",
            "Epoch 67/100, Loss: 1.87251788853852e-05, Val Loss: 0.12393146844572454, Val Accuracy: 97.70642201834862%\n",
            "Epoch 68/100, Loss: 1.8178350815322207e-05, Val Loss: 0.11956327395663331, Val Accuracy: 97.70642201834862%\n",
            "Epoch 69/100, Loss: 1.4452791880276414e-05, Val Loss: 0.11750346931720353, Val Accuracy: 97.70642201834862%\n",
            "Epoch 70/100, Loss: 2.206605694525587e-05, Val Loss: 0.10516303629161225, Val Accuracy: 97.70642201834862%\n",
            "Epoch 71/100, Loss: 1.9689557196519065e-05, Val Loss: 0.10575809045985807, Val Accuracy: 97.70642201834862%\n",
            "Epoch 72/100, Loss: 1.5141646112429693e-05, Val Loss: 0.10604752472967707, Val Accuracy: 97.70642201834862%\n",
            "Epoch 73/100, Loss: 2.4586600461805662e-05, Val Loss: 0.10338129236125886, Val Accuracy: 97.70642201834862%\n",
            "Epoch 74/100, Loss: 2.6563413809656466e-05, Val Loss: 0.1234002336028165, Val Accuracy: 97.70642201834862%\n",
            "Epoch 75/100, Loss: 2.8074219915738685e-05, Val Loss: 0.112531168804188, Val Accuracy: 97.70642201834862%\n",
            "Epoch 76/100, Loss: 1.5889305797957475e-05, Val Loss: 0.11075665727548767, Val Accuracy: 97.70642201834862%\n",
            "Epoch 77/100, Loss: 1.3697618864430946e-05, Val Loss: 0.11326090256209552, Val Accuracy: 97.70642201834862%\n",
            "Epoch 78/100, Loss: 2.8873177516938347e-05, Val Loss: 0.11579833911049978, Val Accuracy: 97.70642201834862%\n",
            "Epoch 79/100, Loss: 1.9411668507105095e-05, Val Loss: 0.12696332661185547, Val Accuracy: 97.70642201834862%\n",
            "Epoch 80/100, Loss: 3.646919360887425e-05, Val Loss: 0.11257032694369887, Val Accuracy: 97.70642201834862%\n",
            "Epoch 81/100, Loss: 1.6074477787783725e-05, Val Loss: 0.10637049335803438, Val Accuracy: 97.70642201834862%\n",
            "Epoch 82/100, Loss: 1.8635186858686903e-05, Val Loss: 0.1006737457293119, Val Accuracy: 97.24770642201835%\n",
            "Epoch 83/100, Loss: 1.248851428196455e-05, Val Loss: 0.11241250911864752, Val Accuracy: 97.70642201834862%\n",
            "Epoch 84/100, Loss: 9.395112973228e-06, Val Loss: 0.12373431716072705, Val Accuracy: 97.70642201834862%\n",
            "Epoch 85/100, Loss: 0.00010871255082227955, Val Loss: 0.12297117598479547, Val Accuracy: 97.70642201834862%\n",
            "Epoch 86/100, Loss: 1.8748597042195753e-05, Val Loss: 0.12040235550375655, Val Accuracy: 97.24770642201835%\n",
            "Epoch 87/100, Loss: 2.0180921694645804e-05, Val Loss: 0.12369704235711002, Val Accuracy: 97.24770642201835%\n",
            "Epoch 88/100, Loss: 2.1143430173998196e-05, Val Loss: 0.12396651844236269, Val Accuracy: 97.24770642201835%\n",
            "Epoch 89/100, Loss: 1.0931001779248445e-05, Val Loss: 0.12163636256757725, Val Accuracy: 97.24770642201835%\n",
            "Epoch 90/100, Loss: 7.384649795009561e-05, Val Loss: 0.129357299795499, Val Accuracy: 97.24770642201835%\n",
            "Epoch 91/100, Loss: 1.8310626528329433e-05, Val Loss: 0.12141803618162937, Val Accuracy: 97.24770642201835%\n",
            "Epoch 92/100, Loss: 1.7659160843799154e-05, Val Loss: 0.12321168069320265, Val Accuracy: 97.24770642201835%\n",
            "Epoch 93/100, Loss: 2.4462134471529378e-05, Val Loss: 0.1256465191337546, Val Accuracy: 97.24770642201835%\n",
            "Epoch 94/100, Loss: 3.797344349247093e-05, Val Loss: 0.1275785379901728, Val Accuracy: 97.24770642201835%\n",
            "Epoch 95/100, Loss: 4.656869313229046e-05, Val Loss: 0.12347945210681896, Val Accuracy: 97.24770642201835%\n",
            "Epoch 96/100, Loss: 2.7035591734775587e-05, Val Loss: 0.1280730289425784, Val Accuracy: 97.70642201834862%\n",
            "Epoch 97/100, Loss: 2.1289068313091687e-05, Val Loss: 0.12932161932881822, Val Accuracy: 97.70642201834862%\n",
            "Epoch 98/100, Loss: 2.3146839999927104e-05, Val Loss: 0.10929936709414635, Val Accuracy: 97.24770642201835%\n",
            "Epoch 99/100, Loss: 1.3689562376298237e-05, Val Loss: 0.12515066172116868, Val Accuracy: 97.24770642201835%\n",
            "Epoch 100/100, Loss: 2.2314335139872993e-05, Val Loss: 0.12353981221427343, Val Accuracy: 97.24770642201835%\n"
          ]
        }
      ],
      "source": [
        "import matplotlib.pyplot as plt\n",
        "\n",
        "# Training model\n",
        "num_epochs = 100\n",
        "val_losses = []\n",
        "val_accuracies = []\n",
        "\n",
        "for epoch in range(num_epochs):\n",
        "    model.train()\n",
        "    running_loss = 0.0\n",
        "    for inputs, labels in train_loader:\n",
        "        inputs, labels = inputs.to(device), labels.to(device)\n",
        "\n",
        "        optimizer.zero_grad()\n",
        "        outputs = model(inputs)\n",
        "        loss = criterion(outputs, labels)\n",
        "        loss.backward()\n",
        "        optimizer.step()\n",
        "\n",
        "        running_loss += loss.item()\n",
        "\n",
        "    # Đánh giá mô hình trên tập validation\n",
        "    model.eval()\n",
        "    val_loss = 0.0\n",
        "    correct = 0\n",
        "    total = 0\n",
        "    with torch.no_grad():\n",
        "        for inputs, labels in val_loader:\n",
        "            inputs, labels = inputs.to(device), labels.to(device)\n",
        "            outputs = model(inputs)\n",
        "            loss = criterion(outputs, labels)\n",
        "            val_loss += loss.item()\n",
        "            predicted = (outputs > 0.5).float()\n",
        "            total += labels.size(0)\n",
        "            correct += (predicted == labels).sum().item()\n",
        "\n",
        "    val_accuracy = 100 * correct / total\n",
        "    val_losses.append(val_loss / len(val_loader))\n",
        "    val_accuracies.append(val_accuracy)\n",
        "\n",
        "    print(f\"Epoch {epoch+1}/{num_epochs}, Loss: {running_loss/len(train_loader)}, Val Loss: {val_loss/len(val_loader)}, Val Accuracy: {val_accuracy}%\")\n"
      ]
    },
    {
      "cell_type": "markdown",
      "metadata": {
        "id": "ccyW9J3J2fyS"
      },
      "source": [
        "***Plotting validation loss and accuracy (before change output layer - do not run again)***"
      ]
    },
    {
      "cell_type": "code",
      "execution_count": null,
      "metadata": {
        "id": "euQqEGz62fyS",
        "outputId": "cc61327e-1994-4550-8787-3fe31eb028dd"
      },
      "outputs": [
        {
          "data": {
            "image/png": "[encoded data removed]",
            "text/plain": [
              "<Figure size 1200x500 with 2 Axes>"
            ]
          },
          "metadata": {},
          "output_type": "display_data"
        }
      ],
      "source": [
        "# epochs = range(1, num_epochs + 1)\n",
        "# plt.figure(figsize=(12, 5))\n",
        "\n",
        "# plt.subplot(1, 2, 1)\n",
        "# plt.plot(epochs, val_losses, 'y', label='Validation Loss')\n",
        "# plt.title('Validation Loss')\n",
        "# plt.xlabel('Epochs')\n",
        "# plt.ylabel('Loss')\n",
        "# plt.legend()git\n",
        "\n",
        "# plt.subplot(1, 2, 2)\n",
        "# plt.plot(epochs, val_accuracies, 'r', label='Validation Accuracy')\n",
        "# plt.title('Validation Accuracy')\n",
        "# plt.xlabel('Epochs')\n",
        "# plt.ylabel('Accuracy (%)')\n",
        "# plt.legend()\n",
        "\n",
        "# plt.tight_layout()\n",
        "# plt.show()"
      ]
    },
    {
      "cell_type": "markdown",
      "metadata": {
        "id": "i4fpTDpR2fyS"
      },
      "source": [
        "***Plotting validation loss and accuracy (after change output layer and training with 100 epoch)***"
      ]
    },
    {
      "cell_type": "code",
      "execution_count": 43,
      "metadata": {
        "colab": {
          "base_uri": "https://localhost:8080/",
          "height": 353
        },
        "id": "OYF6ruer2fyS",
        "outputId": "ba37dfbc-0c00-4453-8758-11bd9e487db8"
      },
      "outputs": [
        {
          "data": {
            "image/png": "[encoded data removed]",
            "text/plain": [
              "<Figure size 1200x500 with 2 Axes>"
            ]
          },
          "metadata": {},
          "output_type": "display_data"
        }
      ],
      "source": [
        "epochs = range(1, num_epochs + 1)\n",
        "plt.figure(figsize=(12, 5))\n",
        "\n",
        "plt.subplot(1, 2, 1)\n",
        "plt.plot(epochs, val_losses, 'y', label='Validation Loss')\n",
        "plt.title('Validation Loss')\n",
        "plt.xlabel('Epochs')\n",
        "plt.ylabel('Loss')\n",
        "plt.legend()\n",
        "\n",
        "plt.subplot(1, 2, 2)\n",
        "plt.plot(epochs, val_accuracies, 'r', label='Validation Accuracy')\n",
        "plt.title('Validation Accuracy')\n",
        "plt.xlabel('Epochs')\n",
        "plt.ylabel('Accuracy (%)')\n",
        "plt.legend()\n",
        "\n",
        "plt.tight_layout()\n",
        "plt.show()"
      ]
    },
    {
      "cell_type": "markdown",
      "metadata": {
        "id": "SxQHEivp2fyS"
      },
      "source": [
        "**update 05/09 plot confusion matrix of model, calculate precision, recall and f1 score with test set**"
      ]
    },
    {
      "cell_type": "code",
      "execution_count": 44,
      "metadata": {
        "colab": {
          "base_uri": "https://localhost:8080/",
          "height": 685
        },
        "id": "CI84rswZ2fyS",
        "outputId": "77b5a66f-3978-432e-bfcf-8ef411cf64b4"
      },
      "outputs": [
        {
          "name": "stdout",
          "output_type": "stream",
          "text": [
            "Accuracy on test set: 99.54128440366972%\n",
            "Confusion Matrix:\n",
            "[[107   0]\n",
            " [  1 110]]\n",
            "Precision: 1.0\n",
            "Recall: 0.990990990990991\n",
            "F1 Score: 0.9954751131221719\n"
          ]
        },
        {
          "data": {
            "image/png": "[encoded data removed]",
            "text/plain": [
              "<Figure size 800x600 with 2 Axes>"
            ]
          },
          "metadata": {},
          "output_type": "display_data"
        }
      ],
      "source": [
        "import torch\n",
        "import matplotlib.pyplot as plt\n",
        "import seaborn as sns\n",
        "from sklearn.metrics import confusion_matrix, precision_score, recall_score, f1_score\n",
        "\n",
        "# Evaluate in test set\n",
        "model.eval()\n",
        "correct = 0\n",
        "total = 0\n",
        "all_labels = []\n",
        "all_predictions = []\n",
        "\n",
        "with torch.no_grad():\n",
        "    for inputs, labels in test_loader:\n",
        "        inputs, labels = inputs.to(device), labels.to(device)\n",
        "        outputs = model(inputs)\n",
        "        predicted = (outputs > 0.5).float()\n",
        "        total += labels.size(0)\n",
        "        correct += (predicted == labels).sum().item()\n",
        "        all_labels.extend(labels.cpu().numpy())\n",
        "        all_predictions.extend(predicted.cpu().numpy())\n",
        "\n",
        "accuracy = 100 * correct / total\n",
        "print(f\"Accuracy on test set: {accuracy}%\")\n",
        "\n",
        "# Calculate confusion matrix\n",
        "cm = confusion_matrix(all_labels, all_predictions)\n",
        "print(\"Confusion Matrix:\")\n",
        "print(cm)\n",
        "\n",
        "# Calculate precision, recall, and F1 score\n",
        "precision = precision_score(all_labels, all_predictions)\n",
        "recall = recall_score(all_labels, all_predictions)\n",
        "f1 = f1_score(all_labels, all_predictions)\n",
        "\n",
        "print(f\"Precision: {precision}\")\n",
        "print(f\"Recall: {recall}\")\n",
        "print(f\"F1 Score: {f1}\")\n",
        "\n",
        "# Plot confusion matrix\n",
        "plt.figure(figsize=(8, 6))\n",
        "sns.heatmap(cm, annot=True, fmt='d', cmap='Blues')\n",
        "plt.xlabel('Predicted')\n",
        "plt.ylabel('True')\n",
        "plt.title('Confusion Matrix')\n",
        "plt.show()"
      ]
    },
    {
      "cell_type": "code",
      "execution_count": null,
      "metadata": {
        "id": "Ip1g9L9K2fyT"
      },
      "outputs": [],
      "source": [
        "torch.save(model.state_dict(), 'BrainTumor_v5.pth')"
      ]
    },
    {
      "cell_type": "markdown",
      "metadata": {
        "id": "REV3XNbI2fyT"
      },
      "source": [
        "* update 05/09: the model is not good so much because val loss increase in last epoch\n",
        "* using early stopping and plot loss and accuracy in each iterator."
      ]
    },
    {
      "cell_type": "code",
      "execution_count": 46,
      "metadata": {
        "id": "8xLqLBgV2fyT"
      },
      "outputs": [],
      "source": []
    }
  ],
  "metadata": {
    "colab": {
      "provenance": []
    },
    "kernelspec": {
      "display_name": "Python 3",
      "language": "python",
      "name": "python3"
    },
    "language_info": {
      "codemirror_mode": {
        "name": "ipython",
        "version": 3
      },
      "file_extension": ".py",
      "mimetype": "text/x-python",
      "name": "python",
      "nbconvert_exporter": "python",
      "pygments_lexer": "ipython3",
      "version": "3.11.6"
    }
  },
  "nbformat": 4,
  "nbformat_minor": 0
}
